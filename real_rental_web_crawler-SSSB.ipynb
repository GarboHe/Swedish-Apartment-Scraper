{
 "cells": [
  {
   "cell_type": "code",
   "execution_count": null,
   "id": "1a1cf655-71c6-4c75-abe2-e0152c4ceb08",
   "metadata": {},
   "outputs": [],
   "source": [
    "#Set up"
   ]
  },
  {
   "cell_type": "code",
   "execution_count": 119,
   "id": "cce1d236-9be6-4722-84e5-58c50f396283",
   "metadata": {},
   "outputs": [],
   "source": [
    "from selenium import webdriver\n",
    "from selenium.webdriver.chrome.options import Options\n",
    "from selenium.webdriver.chrome.service import Service\n",
    "from selenium.webdriver.common.by import By\n",
    "from selenium.webdriver.common.action_chains import ActionChains\n",
    "from selenium.webdriver.support.ui import WebDriverWait\n",
    "from selenium.webdriver.support import expected_conditions as EC\n",
    "from selenium.common.exceptions import NoSuchElementException, ElementClickInterceptedException, TimeoutException\n",
    "from bs4 import BeautifulSoup\n",
    "import time\n",
    "import pandas as pd\n",
    "import re"
   ]
  },
  {
   "cell_type": "code",
   "execution_count": null,
   "id": "6bc1198d-46cf-404a-865d-ccd4623c6d9c",
   "metadata": {},
   "outputs": [],
   "source": [
    "#Set the path of the ChromeDrive"
   ]
  },
  {
   "cell_type": "code",
   "execution_count": 105,
   "id": "dff7b0cb-4f2f-495c-b4a9-f8c513dcd0f8",
   "metadata": {},
   "outputs": [],
   "source": [
    "chrome_driver_path = 'D:/Program Files (x86)/path/chromedriver.exe'  # use the real path of your own \n",
    "service = Service(chrome_driver_path)"
   ]
  },
  {
   "cell_type": "code",
   "execution_count": 21,
   "id": "48a04ac9-ae30-4910-9cf4-36d1f7fd9019",
   "metadata": {},
   "outputs": [
    {
     "ename": "SyntaxError",
     "evalue": "invalid syntax (400094230.py, line 1)",
     "output_type": "error",
     "traceback": [
      "\u001b[1;36m  Cell \u001b[1;32mIn[21], line 1\u001b[1;36m\u001b[0m\n\u001b[1;33m    **Open the Chrome**\u001b[0m\n\u001b[1;37m    ^\u001b[0m\n\u001b[1;31mSyntaxError\u001b[0m\u001b[1;31m:\u001b[0m invalid syntax\n"
     ]
    }
   ],
   "source": [
    "#Open the Chrome"
   ]
  },
  {
   "cell_type": "code",
   "execution_count": 121,
   "id": "33399c3c-4ea5-4861-b14f-54bce7adfdaa",
   "metadata": {},
   "outputs": [],
   "source": [
    "options = Options()\n",
    "options.binary_location = r\"D:\\Program Files\\chrome-win64\\chrome.exe\"\n",
    "options.add_argument('--headless')# You can delete the row for headless running mode \n",
    "options.add_argument('--disable-gpu')\n",
    "driver = webdriver.Chrome(service=service, options=options)"
   ]
  },
  {
   "cell_type": "code",
   "execution_count": null,
   "id": "6698b945-103e-4c47-ae54-fccc6a2fab3e",
   "metadata": {},
   "outputs": [],
   "source": [
    "#Open the target URL"
   ]
  },
  {
   "cell_type": "code",
   "execution_count": 123,
   "id": "b60c5c7c-2337-4558-9455-097c2d902b30",
   "metadata": {},
   "outputs": [
    {
     "name": "stdout",
     "output_type": "stream",
     "text": [
      "开始等待页面加载\n",
      "页面加载完成\n"
     ]
    }
   ],
   "source": [
    "url = 'https://minasidor.sssb.se/en/available-apartments/'\n",
    "driver.get(url)\n",
    "print(\"开始等待页面加载\")\n",
    "WebDriverWait(driver, 20).until(EC.presence_of_element_located((By.CSS_SELECTOR, 'span.PaginationNextExists > a')))\n",
    "print(\"页面加载完成\")"
   ]
  },
  {
   "cell_type": "code",
   "execution_count": null,
   "id": "ad8cacd0-1289-42c8-8fb1-a0e65e9bbde0",
   "metadata": {},
   "outputs": [],
   "source": [
    "#IF the Cookie bump out"
   ]
  },
  {
   "cell_type": "code",
   "execution_count": 125,
   "id": "c4197183-5c07-40eb-bcc1-98b6885f8804",
   "metadata": {},
   "outputs": [
    {
     "name": "stdout",
     "output_type": "stream",
     "text": [
      "未找到cookie弹窗或点击失败\n"
     ]
    }
   ],
   "source": [
    "try:\n",
    "    accept_cookie_button = WebDriverWait(driver, 10).until(\n",
    "        EC.element_to_be_clickable((By.XPATH, \"//a[@class='cc_btn cc_btn_accept_all' and text()='I accept']\"))\n",
    "    )\n",
    "    accept_cookie_button.click()\n",
    "    print(\"已接受cookie\")\n",
    "except (NoSuchElementException, TimeoutException):\n",
    "    print(\"未找到cookie弹窗或点击失败\")\n",
    "\n",
    "data = []"
   ]
  },
  {
   "cell_type": "code",
   "execution_count": null,
   "id": "3a2d2533-bace-485b-b673-37d8dc243172",
   "metadata": {},
   "outputs": [],
   "source": [
    "#Access to the web content"
   ]
  },
  {
   "cell_type": "code",
   "execution_count": 127,
   "id": "cc8e9626-107a-45eb-ac71-eeae9318cb18",
   "metadata": {},
   "outputs": [
    {
     "name": "stdout",
     "output_type": "stream",
     "text": [
      "{'Room Type': 'Corridor room', 'Address': 'Studentbacken 21 / 1212', 'Rent Type': '10 mån hyra | Electricity included', 'Area': 'Jerum', 'Living Space': '17 m²', 'Rent': '4\\xa0805 SEK', 'Moving In': '2025-09-16', 'Queue Days': '90 (4st)', 'Floor': '2'}\n",
      "{'Room Type': 'Corridor room', 'Address': 'Studentbacken 21 / 1410', 'Rent Type': '10 mån hyra | Electricity included', 'Area': 'Jerum', 'Living Space': '17 m²', 'Rent': '4\\xa0593 SEK', 'Moving In': '2025-09-16', 'Queue Days': '90 (4st)', 'Floor': '4'}\n",
      "{'Room Type': 'Corridor room', 'Address': 'Studentbacken 21 / 1603', 'Rent Type': '10 mån hyra | Electricity included', 'Area': 'Jerum', 'Living Space': '17 m²', 'Rent': '4\\xa0593 SEK', 'Moving In': '2025-09-16', 'Queue Days': '90 (4st)', 'Floor': '6'}\n",
      "{'Room Type': '3 rooms & kitchen', 'Address': 'Norra Stationsgatan 97 / 1101', 'Rent Type': 'Electricity included', 'Area': 'Idun', 'Living Space': '80 m²', 'Rent': '11\\xa0203 SEK', 'Moving In': '2025-09-01', 'Queue Days': '1306 (6st)', 'Floor': '1'}\n",
      "{'Room Type': '4 rooms & kitchen', 'Address': 'Röntgenvägen 1 / 2219', 'Rent Type': 'Electricity included', 'Area': 'Flemingsberg', 'Living Space': '96 m²', 'Rent': '10\\xa0994 SEK', 'Moving In': '2025-09-01', 'Queue Days': '0 (0st)', 'Floor': '12'}\n",
      "{'Room Type': '4 rooms & kitchen', 'Address': 'Professorsslingan 33 / 1701', 'Rent Type': '', 'Area': 'Lappkärrsberget', 'Living Space': '75 m²', 'Rent': '11\\xa0379 SEK', 'Moving In': '2025-09-01', 'Queue Days': '566 (4st)', 'Floor': '7'}\n",
      "{'Room Type': '1 room & kitchenette', 'Address': 'Körsbärsvägen 2 B / 1001', 'Rent Type': 'Electricity included', 'Area': 'Forum', 'Living Space': '45 m²', 'Rent': '9\\xa0825 SEK', 'Moving In': '2025-09-01', 'Queue Days': '714 (4st)', 'Floor': 'GF'}\n",
      "{'Room Type': 'Corridor room', 'Address': 'Amanuensvägen  8 / 1211', 'Rent Type': '10 mån hyra | Electricity included', 'Area': 'Lappkärrsberget', 'Living Space': '18 m²', 'Rent': '4\\xa0610 SEK', 'Moving In': '2025-09-01', 'Queue Days': '90 (6st)', 'Floor': '3'}\n",
      "{'Room Type': 'Corridor room', 'Address': 'Studentbacken 21 / 1404', 'Rent Type': '10 mån hyra | Electricity included', 'Area': 'Jerum', 'Living Space': '17 m²', 'Rent': '4\\xa0593 SEK', 'Moving In': '2025-09-16', 'Queue Days': '90 (3st)', 'Floor': '4'}\n",
      "{'Room Type': '1 room & kitchen', 'Address': 'Professorsslingan 47 / 2001', 'Rent Type': '', 'Area': 'Lappkärrsberget', 'Living Space': '23 m²', 'Rent': '8\\xa0050 SEK', 'Moving In': '2025-09-01', 'Queue Days': '90 (6st)', 'Floor': '10'}\n",
      "{'Room Type': '', 'Address': '', 'Rent Type': '', 'Area': '', 'Living Space': '', 'Rent': '', 'Moving In': '', 'Queue Days': '', 'Floor': ''}\n",
      "{'Room Type': '', 'Address': '', 'Rent Type': '', 'Area': '', 'Living Space': '', 'Rent': '', 'Moving In': '', 'Queue Days': '', 'Floor': ''}\n"
     ]
    }
   ],
   "source": [
    "def clean_text(text):\n",
    "    try:\n",
    "        # html实体解码 + 编码解码防乱码\n",
    "        return html.unescape(text).encode('latin1').decode('utf-8')\n",
    "    except:\n",
    "        return text  # 如果出错就返回原始文本\n",
    "\n",
    "def get_page_data():\n",
    "    html = driver.page_source\n",
    "    soup = BeautifulSoup(html, 'lxml')\n",
    "\n",
    "    apt_blocks = soup.find_all('div', class_='column medium-3')\n",
    "\n",
    "    # 提取详情数据区\n",
    "    details_headers = soup.find_all('ul', class_='apt-list apt-details-headers')\n",
    "    details_data = soup.find_all('ul', class_='apt-list apt-details-data')\n",
    "\n",
    "    for i, block in enumerate(apt_blocks):\n",
    "        # 房型名称\n",
    "        room_type_tag = block.find('h2', class_='apt-title')\n",
    "        room_type = clean_text(room_type_tag.get_text(strip=True)) if room_type_tag else ''\n",
    "\n",
    "        # 地址\n",
    "        address_tag = block.find('p', class_='apt-address')\n",
    "        address = clean_text(address_tag.get_text(strip=True)) if address_tag else ''\n",
    "\n",
    "        # 租期信息\n",
    "        rent_type_tags = block.find_all('p', class_='rent-type')\n",
    "        rent_type = ' | '.join([clean_text(t.get_text(strip=True)) for t in rent_type_tags])\n",
    "\n",
    "        # 详情数据\n",
    "        if i < len(details_data):\n",
    "            detail_li = details_data[i].find_all('li')\n",
    "            area = clean_text(detail_li[0].get_text(strip=True)) if len(detail_li) > 0 else ''\n",
    "            living_space = clean_text(detail_li[1].get_text(strip=True)) if len(detail_li) > 1 else ''\n",
    "            rent = clean_text(detail_li[2].get_text(strip=True)) if len(detail_li) > 2 else ''\n",
    "            moving_in = clean_text(detail_li[3].get_text(strip=True)) if len(detail_li) > 3 else ''\n",
    "            queue_days = clean_text(detail_li[5].get_text(strip=True)) if len(detail_li) > 5 else ''\n",
    "            floor = clean_text(detail_li[6].get_text(strip=True)) if len(detail_li) > 6 else ''\n",
    "        else:\n",
    "            area = living_space = rent = moving_in = queue_days = floor = ''\n",
    "\n",
    "        data.append({\n",
    "            'Room Type': room_type,\n",
    "            'Address': address,\n",
    "            'Rent Type': rent_type,\n",
    "            'Area': area,\n",
    "            'Living Space': living_space,\n",
    "            'Rent': rent,\n",
    "            'Moving In': moving_in,\n",
    "            'Queue Days': queue_days,\n",
    "            'Floor': floor,\n",
    "        })\n",
    "\n",
    "# 调用函数\n",
    "data = []\n",
    "get_page_data()\n",
    "\n",
    "# 打印结果看效果\n",
    "for item in data:\n",
    "    print(item)"
   ]
  },
  {
   "cell_type": "code",
   "execution_count": null,
   "id": "24d8e42f-d41d-429e-93b0-888c8087cd7e",
   "metadata": {},
   "outputs": [],
   "source": [
    "#Find the next page"
   ]
  },
  {
   "cell_type": "code",
   "execution_count": 129,
   "id": "ac87ad59-a43b-4c17-baea-596d0a8679d6",
   "metadata": {},
   "outputs": [
    {
     "name": "stdout",
     "output_type": "stream",
     "text": [
      "找到下一页按钮\n",
      "点击下一页按钮\n",
      "页面加载完成\n",
      "获取当前页数据\n",
      "找到下一页按钮\n",
      "点击下一页按钮\n",
      "页面加载完成\n",
      "获取当前页数据\n",
      "找到下一页按钮\n",
      "点击下一页按钮\n",
      "页面加载完成\n",
      "获取当前页数据\n",
      "找到下一页按钮\n",
      "点击下一页按钮\n",
      "页面加载完成\n",
      "获取当前页数据\n",
      "找到下一页按钮\n",
      "点击下一页按钮\n",
      "页面加载完成\n",
      "获取当前页数据\n",
      "找到下一页按钮\n",
      "点击下一页按钮\n",
      "页面加载完成\n",
      "获取当前页数据\n",
      "找到下一页按钮\n",
      "点击下一页按钮\n",
      "页面加载完成\n",
      "获取当前页数据\n",
      "异常: Message: no such element: Unable to locate element: {\"method\":\"css selector\",\"selector\":\"span.PaginationNextExists > a\"}\n",
      "  (Session info: chrome=139.0.7258.66); For documentation on this error, please visit: https://www.selenium.dev/documentation/webdriver/troubleshooting/errors#no-such-element-exception\n",
      "Stacktrace:\n",
      "\tGetHandleVerifier [0x0x7ff77cde6b55+79621]\n",
      "\tGetHandleVerifier [0x0x7ff77cde6bb0+79712]\n",
      "\t(No symbol) [0x0x7ff77cb7c0ea]\n",
      "\t(No symbol) [0x0x7ff77cbd2f56]\n",
      "\t(No symbol) [0x0x7ff77cbd320c]\n",
      "\t(No symbol) [0x0x7ff77cc265b7]\n",
      "\t(No symbol) [0x0x7ff77cbfb17f]\n",
      "\t(No symbol) [0x0x7ff77cc233d0]\n",
      "\t(No symbol) [0x0x7ff77cbfaf13]\n",
      "\t(No symbol) [0x0x7ff77cbc4151]\n",
      "\t(No symbol) [0x0x7ff77cbc4ee3]\n",
      "\tGetHandleVerifier [0x0x7ff77d0a686d+2962461]\n",
      "\tGetHandleVerifier [0x0x7ff77d0a0b8d+2938685]\n",
      "\tGetHandleVerifier [0x0x7ff77d0bf74d+3064573]\n",
      "\tGetHandleVerifier [0x0x7ff77ce00c9e+186446]\n",
      "\tGetHandleVerifier [0x0x7ff77ce08a6f+218655]\n",
      "\tGetHandleVerifier [0x0x7ff77cdef944+115956]\n",
      "\tGetHandleVerifier [0x0x7ff77cdefaf9+116393]\n",
      "\tGetHandleVerifier [0x0x7ff77cdd5f28+10968]\n",
      "\tBaseThreadInitThunk [0x0x7ffe7b06e8d7+23]\n",
      "\tRtlUserThreadStart [0x0x7ffe7ca1c34c+44]\n",
      "\n"
     ]
    }
   ],
   "source": [
    "# 初始化变量以存储上一个页面的 URL\n",
    "previous_url = driver.current_url\n",
    "\n",
    "# 循环点击下一页按钮并获取数据\n",
    "while True:\n",
    "    try:\n",
    "        # 找到并点击下一页按钮\n",
    "        next_button = driver.find_element(By.CSS_SELECTOR, 'span.PaginationNextExists > a')\n",
    "        print(\"找到下一页按钮\")\n",
    "        \n",
    "        # 移动到元素并点击\n",
    "        action = ActionChains(driver)\n",
    "        action.move_to_element(next_button).click().perform()\n",
    "        print(\"点击下一页按钮\")\n",
    "        \n",
    "        # 等待页面加载完成并检查URL是否变化\n",
    "        WebDriverWait(driver, 20).until(lambda driver: driver.current_url != previous_url)\n",
    "        print(\"页面加载完成\")\n",
    "        \n",
    "        # 更新previous_url\n",
    "        previous_url = driver.current_url\n",
    "        \n",
    "        # 等待更多时间确保页面完全加载\n",
    "        time.sleep(10)\n",
    "        \n",
    "        # 获取当前页的数据\n",
    "        get_page_data()\n",
    "        print(\"获取当前页数据\")\n",
    "    except (NoSuchElementException, ElementClickInterceptedException, TimeoutException) as e:\n",
    "        print(f\"异常: {e}\")\n",
    "        # 如果没有下一页按钮，跳出循环\n",
    "        break\n",
    "\n",
    "# 关闭浏览器\n",
    "driver.quit()\n",
    "\n",
    "# 创建DataFrame\n",
    "df = pd.DataFrame(data)\n",
    "\n",
    "        "
   ]
  },
  {
   "cell_type": "code",
   "execution_count": null,
   "id": "e920b4ee-40b3-4404-b68b-080abda4d047",
   "metadata": {},
   "outputs": [],
   "source": [
    "#Output"
   ]
  },
  {
   "cell_type": "code",
   "execution_count": 131,
   "id": "b22cb5dd-006f-4806-85ba-30564fdb1348",
   "metadata": {},
   "outputs": [
    {
     "name": "stdout",
     "output_type": "stream",
     "text": [
      "            Room Type                        Address  \\\n",
      "0       Corridor room        Studentbacken 21 / 1212   \n",
      "1       Corridor room        Studentbacken 21 / 1410   \n",
      "2       Corridor room        Studentbacken 21 / 1603   \n",
      "3   3 rooms & kitchen  Norra Stationsgatan 97 / 1101   \n",
      "4   4 rooms & kitchen          Röntgenvägen 1 / 2219   \n",
      "..                ...                            ...   \n",
      "82                                                     \n",
      "83                                                     \n",
      "84      Corridor room          Armégatan 32 A / 1901   \n",
      "85                                                     \n",
      "86                                                     \n",
      "\n",
      "                                           Rent Type          Area  \\\n",
      "0                 10 mån hyra | Electricity included         Jerum   \n",
      "1                 10 mån hyra | Electricity included         Jerum   \n",
      "2                 10 mån hyra | Electricity included         Jerum   \n",
      "3                               Electricity included          Idun   \n",
      "4                               Electricity included  Flemingsberg   \n",
      "..                                               ...           ...   \n",
      "82                                                                   \n",
      "83                                                                   \n",
      "84  10 mån hyra | Electricity included | Max 4 years         Strix   \n",
      "85                                                                   \n",
      "86                                                                   \n",
      "\n",
      "   Living Space        Rent   Moving In  Queue Days Floor  \n",
      "0         17 m²   4 805 SEK  2025-09-16    90 (4st)     2  \n",
      "1         17 m²   4 593 SEK  2025-09-16    90 (4st)     4  \n",
      "2         17 m²   4 593 SEK  2025-09-16    90 (4st)     6  \n",
      "3         80 m²  11 203 SEK  2025-09-01  1306 (6st)     1  \n",
      "4         96 m²  10 994 SEK  2025-09-01     0 (0st)    12  \n",
      "..          ...         ...         ...         ...   ...  \n",
      "82                                                         \n",
      "83                                                         \n",
      "84        16 m²   3 508 SEK  2025-09-16    90 (3st)     9  \n",
      "85                                                         \n",
      "86                                                         \n",
      "\n",
      "[87 rows x 9 columns]\n"
     ]
    }
   ],
   "source": [
    "# 打印DataFrame\n",
    "print(df)\n",
    "\n",
    "# 保存到CSV文件\n",
    "df.to_csv(\"output.csv\", encoding=\"utf-8-sig\", index=False)"
   ]
  },
  {
   "cell_type": "code",
   "execution_count": null,
   "id": "f8f0ef39-65bc-4d7a-9995-f43a012f07b2",
   "metadata": {},
   "outputs": [],
   "source": []
  }
 ],
 "metadata": {
  "kernelspec": {
   "display_name": "Python 3 (ipykernel)",
   "language": "python",
   "name": "python3"
  },
  "language_info": {
   "codemirror_mode": {
    "name": "ipython",
    "version": 3
   },
   "file_extension": ".py",
   "mimetype": "text/x-python",
   "name": "python",
   "nbconvert_exporter": "python",
   "pygments_lexer": "ipython3",
   "version": "3.12.4"
  }
 },
 "nbformat": 4,
 "nbformat_minor": 5
}
